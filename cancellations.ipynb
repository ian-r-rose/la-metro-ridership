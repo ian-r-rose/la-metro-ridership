{
 "cells": [
  {
   "cell_type": "markdown",
   "id": "5b1b9037-352d-4338-bcbd-b586980fb043",
   "metadata": {},
   "source": [
    "# Metro Cancellations\n",
    "\n",
    "Creating maps, charts, and summary statistics around LA Metro bus trip cancellations in 2022."
   ]
  },
  {
   "cell_type": "code",
   "execution_count": null,
   "id": "2c0bac98-2c1b-4b49-832d-0407bacbfd32",
   "metadata": {},
   "outputs": [],
   "source": [
    "import datetime\n",
    "\n",
    "import altair\n",
    "import altair_saver\n",
    "import contextily\n",
    "import geopandas\n",
    "import matplotlib.pyplot as plt\n",
    "import pandas\n",
    "import partridge\n",
    "import toolz\n",
    "from mpl_toolkits.axes_grid1 import make_axes_locatable\n",
    "\n",
    "altair.data_transformers.disable_max_rows()"
   ]
  },
  {
   "cell_type": "markdown",
   "id": "c089597c-7234-4409-b53b-a1ae271e5852",
   "metadata": {},
   "source": [
    "## Load Data"
   ]
  },
  {
   "cell_type": "code",
   "execution_count": null,
   "id": "eceace16-d83b-4764-b6d2-6b00267b2187",
   "metadata": {},
   "outputs": [],
   "source": [
    "# Default to loading data for the prior day, which should be complete.\n",
    "date = pandas.Timestamp.today(tz=\"US/Pacific\").date()\n",
    "date = date - datetime.timedelta(days=1)"
   ]
  },
  {
   "cell_type": "code",
   "execution_count": null,
   "id": "63a42a76-b4e1-4a07-be42-bcb8ab744624",
   "metadata": {},
   "outputs": [],
   "source": [
    "# December 2021 shakeup GTFS feed.\n",
    "feed = partridge.load_geo_feed(\"gtfs_bus_2021_12.zip\")\n",
    "service_by_date = partridge.read_service_ids_by_date(\"gtfs_bus_2021_12.zip\")\n",
    "service_by_date = pandas.DataFrame.from_records(\n",
    "    toolz.concat([(k, s) for s in v] for k, v in service_by_date.items()),\n",
    "    columns=[\"date\", \"service_id\"],\n",
    ")\n",
    "\n",
    "# Trip updates from the relevant day. Note: service by day includes some late night\n",
    "# trips on the next date. This probably gets cancellations for those late night trips\n",
    "# wrong! But for now, ignore as a small fraction of the total trips\n",
    "updates = pandas.read_parquet(f\"trip-updates/trip-updates-{date.isoformat()}.parquet\")"
   ]
  },
  {
   "cell_type": "markdown",
   "id": "0f7ff35d-7ccd-457d-9ec9-28d82c7eb281",
   "metadata": {},
   "source": [
    "## Create a service-by-line chart"
   ]
  },
  {
   "cell_type": "code",
   "execution_count": null,
   "id": "dda708a9-7ca7-4514-a8de-cdc0f9ea75e0",
   "metadata": {},
   "outputs": [],
   "source": [
    "# Service patterns for the day\n",
    "service = service_by_date[service_by_date.date == date]\n",
    "# Trips for the service patterns\n",
    "trips = feed.trips[feed.trips.service_id.isin(service.service_id)]\n",
    "# Route data\n",
    "routes = feed.routes.assign(\n",
    "     route=lambda x: x.route_short_name.combine_first(x.route_long_name)\n",
    ")[[\"route_id\", \"route\"]]\n",
    "# Timing data for trips, which we use to compute scheduled service hours.\n",
    "trip_timings = (\n",
    "    feed\n",
    "    .stop_times\n",
    "    .groupby(\"trip_id\")\n",
    "    .agg({\"arrival_time\": max, \"departure_time\": min})\n",
    ")\n",
    "trip_timings = trip_timings.assign(\n",
    "    duration=pandas.to_timedelta(\n",
    "        trip_timings.arrival_time - trip_timings.departure_time,\n",
    "        unit=\"s\"\n",
    "    ),\n",
    "    arrival_time=pandas.to_datetime(date).normalize() + pandas.to_timedelta(trip_timings.arrival_time, unit=\"s\"),\n",
    "    departure_time=pandas.to_datetime(date).normalize() + pandas.to_timedelta(trip_timings.departure_time, unit=\"s\"),\n",
    "\n",
    ")\n",
    "\n",
    "# Merge the datasets into a single trips dataframe with timing, route, and updates data.\n",
    "# Assume that if a trip does not get an update, it is \"scheduled\". This assumption may\n",
    "# not be 100%, but seems to work okay.\n",
    "trips = trips.merge(trip_timings, left_on=\"trip_id\", right_index=True)\n",
    "trips = trips.merge(routes, on=\"route_id\", how=\"left\",)\n",
    "trips = (\n",
    "    trips.merge(updates, on=\"trip_id\", how=\"left\")\n",
    "    .assign(\n",
    "        schedule_relationship=lambda x: x.schedule_relationship.fillna(\"scheduled\")\n",
    "    )       \n",
    ")"
   ]
  },
  {
   "cell_type": "code",
   "execution_count": null,
   "id": "694c2023-a29c-4e71-a95b-a40b6f6c28d8",
   "metadata": {},
   "outputs": [],
   "source": [
    "# Select a subset of the data for the altair strip plot. At this point,\n",
    "# \"scheduled\" without a cancellation is presumed to mean that the trip\n",
    "# was run, so replace the word for clarity in the plot.\n",
    "to_chart = (\n",
    "    trips\n",
    "    [[\"departure_time\", \"route\", \"schedule_relationship\"]]\n",
    "    .replace(\"scheduled\", \"run\")\n",
    ")\n",
    "\n",
    "# The main chart!\n",
    "chart = altair.Chart(\n",
    "    to_chart,\n",
    "    width=1024\n",
    ").mark_tick(\n",
    "    size=10,\n",
    ").encode(\n",
    "    x=altair.X(\n",
    "        \"departure_time:T\",\n",
    "        title=\"Departure Time\",\n",
    "        axis=altair.Axis(orient=\"top\", grid=True)\n",
    "    ),\n",
    "    y=altair.Y(\"route:N\", title=\"Route\"),\n",
    "    color=altair.Color(\n",
    "        'schedule_relationship:N',\n",
    "        title=\"Status\",\n",
    "        scale=altair.Scale(domain=[\"run\", \"canceled\"], range=[\"darkgreen\", \"red\"])  \n",
    "    ),\n",
    ")\n",
    "\n",
    "# Empty chart to hack in x labels on the bottom as well as top\n",
    "other = (\n",
    "    altair.Chart(to_chart.head(0))\n",
    "    .mark_tick()\n",
    "    .encode(\n",
    "        x=altair.X(\n",
    "            \"departure_time:T\",\n",
    "            title=\"Departure Time\",\n",
    "            axis=altair.Axis(orient=\"bottom\", grid=True)\n",
    "        ),\n",
    "        y=altair.Y(\"route:N\", title=\"Route\")\n",
    "        \n",
    "    )\n",
    ")\n",
    "layered = altair.layer(chart, other).resolve_axis(x=\"shared\", y=\"shared\")\n",
    "\n",
    "altair_saver.save(\n",
    "    layered,\n",
    "    f\"cancellation-reports/metro-cancellations-{date.isoformat()}.png\",\n",
    ")\n",
    "layered"
   ]
  },
  {
   "cell_type": "markdown",
   "id": "6b7ea038-1a16-4cbb-9bbe-048ee2cf9cdc",
   "metadata": {},
   "source": [
    "## Create a map"
   ]
  },
  {
   "cell_type": "code",
   "execution_count": null,
   "id": "29c21106-636a-43f7-8be3-3453f34a1d6b",
   "metadata": {},
   "outputs": [],
   "source": [
    "# Choose the most common shape_id to use for the map\n",
    "geoms = geopandas.GeoDataFrame(\n",
    "    (\n",
    "        trips.groupby(\"route\")\n",
    "        .agg({\"shape_id\": lambda g: g.value_counts().index[0]})\n",
    "        .reset_index()\n",
    "        .merge(feed.shapes, how=\"left\", on=\"shape_id\")\n",
    "    ),\n",
    "    crs=\"EPSG:4326\",\n",
    "    geometry=\"geometry\",\n",
    ")\n",
    "trips_agg = (\n",
    "    trips\n",
    "    .assign(count=1)   # unused column for count\n",
    "    .groupby([\"route\", \"schedule_relationship\"], dropna=False)\n",
    "    .agg({\n",
    "        \"duration\": sum,\n",
    "        \"count\": \"count\",\n",
    "    })\n",
    "    .unstack(level=1)\n",
    ")\n",
    "# https://stackoverflow.com/questions/45878333/merge-multiindex-columns-together-into-1-level\n",
    "trips_agg.columns = ['_'.join(col) for col in trips_agg.columns.values]\n",
    "trips_agg = trips_agg.assign(\n",
    "    duration_canceled=trips_agg.duration_canceled.fillna(pandas.Timedelta(0)),\n",
    "    count_canceled=trips_agg.count_canceled.fillna(0).astype(int),\n",
    "    count_scheduled=trips_agg.count_scheduled.astype(int),\n",
    ")\n",
    "trips_agg = trips_agg.assign(\n",
    "    percent_duration_canceled=(\n",
    "        100*trips_agg.duration_canceled/\n",
    "        (trips_agg.duration_canceled + trips_agg.duration_scheduled)\n",
    "    ),\n",
    "    percent_trips_canceled=(\n",
    "        100*trips_agg.count_canceled/\n",
    "        (trips_agg.count_canceled + trips_agg.count_scheduled)\n",
    "    ),\n",
    ")\n",
    "\n",
    "gdf = geopandas.GeoDataFrame(\n",
    "    trips_agg.merge(geoms, on=\"route\"),\n",
    "    crs=\"EPSG:4326\",\n",
    "    geometry=\"geometry\"\n",
    ")"
   ]
  },
  {
   "cell_type": "code",
   "execution_count": null,
   "id": "eb8f5faf-0890-40c0-8dc9-d5c03cd27185",
   "metadata": {},
   "outputs": [],
   "source": [
    "fig, ax = plt.subplots(1,1, figsize=(16,16))\n",
    "ax.axis(\"off\")\n",
    "ax.set_title(f\"Metro Bus Cancellations for {date.strftime('%A, %B %-m')}\")\n",
    "divider = make_axes_locatable(ax)\n",
    "cax = divider.append_axes(\"right\", size=\"2%\", pad=0.0)\n",
    "gdf.to_crs(epsg=3857).plot(\n",
    "    ax=ax,\n",
    "    column=gdf.percent_duration_canceled,\n",
    "    cmap=\"RdYlGn_r\",\n",
    "    lw=2,\n",
    "    legend=True,\n",
    "    cax=cax,\n",
    "    legend_kwds={\"label\": \"Percent of service hours canceled\"}\n",
    ")\n",
    "contextily.add_basemap(ax, source=contextily.providers.CartoDB.DarkMatterNoLabels)\n",
    "fig.savefig(\n",
    "    f\"cancellation-reports/metro-cancellations-map-{date.isoformat()}.png\",\n",
    "    dpi=100,\n",
    "    bbox_inches=\"tight\",\n",
    ")"
   ]
  },
  {
   "cell_type": "markdown",
   "id": "503cb06f-9d48-4948-836f-7ecb8d5bcc5d",
   "metadata": {},
   "source": [
    "## Summary statistics"
   ]
  },
  {
   "cell_type": "code",
   "execution_count": null,
   "id": "fe63213c-f7b5-4482-aff9-8094114db50e",
   "metadata": {},
   "outputs": [],
   "source": [
    "out = (\n",
    "    trips_agg\n",
    "    .sort_values(\"percent_duration_canceled\", ascending=False)\n",
    "    .reset_index()\n",
    "    .rename(columns={\n",
    "        \"route\": \"Route\",\n",
    "        \"duration_canceled\": \"Service Hours Canceled\",\n",
    "        \"duration_scheduled\": \"Service Hours Run\",\n",
    "        \"count_canceled\": \"Trips Canceled\",\n",
    "        \"count_scheduled\": \"Trips Run\",\n",
    "        \"percent_duration_canceled\": \"Percent of Service Hours Canceled\",\n",
    "        \"percent_trips_canceled\": \"Percent of Trips Canceled\",\n",
    "    })\n",
    ")\n",
    "\n",
    "out.to_csv(\n",
    "    f\"cancellation-reports/metro-cancellations-{date.isoformat()}.csv\",\n",
    "    index=False,\n",
    ")\n",
    "out.style.hide_index().format(precision=0)"
   ]
  },
  {
   "cell_type": "code",
   "execution_count": null,
   "id": "4d3303a3-c268-4875-a8bc-6a1f39e2d884",
   "metadata": {},
   "outputs": [],
   "source": [
    "gdf.duration_canceled.sum()/(gdf.duration_canceled.sum() + gdf.duration_scheduled.sum())"
   ]
  },
  {
   "cell_type": "code",
   "execution_count": null,
   "id": "6903af7b-7d7c-4caf-a2e6-ab25f41cb3ce",
   "metadata": {},
   "outputs": [],
   "source": [
    "gdf.count_canceled.sum()/(gdf.count_canceled.sum() + gdf.count_scheduled.sum())"
   ]
  }
 ],
 "metadata": {
  "kernelspec": {
   "display_name": "Python 3 (ipykernel)",
   "language": "python",
   "name": "python3"
  },
  "language_info": {
   "codemirror_mode": {
    "name": "ipython",
    "version": 3
   },
   "file_extension": ".py",
   "mimetype": "text/x-python",
   "name": "python",
   "nbconvert_exporter": "python",
   "pygments_lexer": "ipython3",
   "version": "3.8.5"
  }
 },
 "nbformat": 4,
 "nbformat_minor": 5
}
