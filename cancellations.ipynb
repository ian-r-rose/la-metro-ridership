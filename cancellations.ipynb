{
 "cells": [
  {
   "cell_type": "code",
   "execution_count": null,
   "id": "e5d71c97-4b9c-4f7f-b28e-d2e8cebd14bf",
   "metadata": {},
   "outputs": [],
   "source": [
    "import contextily\n",
    "import geopandas\n",
    "import matplotlib.pyplot as plt\n",
    "import pandas\n",
    "import partridge\n",
    "import toolz\n",
    "from fsspec.implementations.git import GitFileSystem\n",
    "from mpl_toolkits.axes_grid1 import make_axes_locatable\n",
    "\n",
    "\n",
    "GTFS_FILE = \"gtfs_bus.zip\"\n",
    "ref = \"6e08004d9a7603f4411e23da0dac9b0462323a76\"\n",
    "\n",
    "fs = GitFileSystem(\"gtfs_bus\", ref=ref)\n",
    "\n",
    "with fs.open(GTFS_FILE, \"rb\") as infile:\n",
    "    data = infile.read()\n",
    "with open(\"/tmp/\" + GTFS_FILE, \"wb\") as outfile:\n",
    "    outfile.write(data)"
   ]
  },
  {
   "cell_type": "code",
   "execution_count": null,
   "id": "63a42a76-b4e1-4a07-be42-bcb8ab744624",
   "metadata": {},
   "outputs": [],
   "source": [
    "feed = partridge.load_geo_feed(\"/tmp/\" + GTFS_FILE)\n",
    "service_by_date = partridge.read_service_ids_by_date(\"/tmp/\" + GTFS_FILE)\n",
    "service_by_date = pandas.DataFrame.from_records(\n",
    "    toolz.concat([(k, s) for s in v] for k, v in service_by_date.items()),\n",
    "    columns=[\"date\", \"service_id\"],\n",
    ")"
   ]
  },
  {
   "cell_type": "code",
   "execution_count": null,
   "id": "2d8de6fa-002d-4940-8a61-1c2c8bd25201",
   "metadata": {},
   "outputs": [],
   "source": [
    "updates = pandas.read_parquet(\"trip-updates/trip-updates-2022-01-19.parquet\")"
   ]
  },
  {
   "cell_type": "code",
   "execution_count": null,
   "id": "dda708a9-7ca7-4514-a8de-cdc0f9ea75e0",
   "metadata": {},
   "outputs": [],
   "source": [
    "date = pandas.Timestamp.today(tz=\"US/Pacific\").date()\n",
    "service = service_by_date[service_by_date.date == date]\n",
    "trips = feed.trips[feed.trips.service_id.isin(service.service_id)]\n",
    "routes = feed.routes.assign(\n",
    "     route=lambda x: x.route_short_name.combine_first(x.route_long_name)\n",
    ")[[\"route_id\", \"route\"]]\n",
    "trip_timings = (\n",
    "    feed\n",
    "    .stop_times\n",
    "    .groupby(\"trip_id\")\n",
    "    .agg({\"arrival_time\": max, \"departure_time\": min})\n",
    ")\n",
    "trip_timings = trip_timings.assign(\n",
    "    duration=pandas.to_timedelta(\n",
    "        trip_timings.arrival_time - trip_timings.departure_time,\n",
    "        unit=\"s\"\n",
    "    ),\n",
    "    arrival_time=pandas.to_datetime(date).normalize() + pandas.to_timedelta(trip_timings.arrival_time, unit=\"s\"),\n",
    "    departure_time=pandas.to_datetime(date).normalize() + pandas.to_timedelta(trip_timings.departure_time, unit=\"s\"),\n",
    "\n",
    ")\n",
    "trips = trips.merge(trip_timings, left_on=\"trip_id\", right_index=True)\n",
    "trips = trips.merge(routes, on=\"route_id\", how=\"left\",)\n",
    "trips = (\n",
    "    trips.merge(updates, on=\"trip_id\", how=\"left\")\n",
    "    .assign(\n",
    "        schedule_relationship=lambda x: x.schedule_relationship.fillna(\"scheduled\")\n",
    "    )       \n",
    ")"
   ]
  },
  {
   "cell_type": "code",
   "execution_count": null,
   "id": "4657b4c9-a43b-456f-a314-7603812c03f9",
   "metadata": {},
   "outputs": [],
   "source": [
    "import altair\n",
    "altair.data_transformers.disable_max_rows()"
   ]
  },
  {
   "cell_type": "code",
   "execution_count": null,
   "id": "694c2023-a29c-4e71-a95b-a40b6f6c28d8",
   "metadata": {},
   "outputs": [],
   "source": [
    "altair.Chart(\n",
    "    trips[[\"departure_time\", \"route\", \"schedule_relationship\"]].replace(\"scheduled\", \"run\"),\n",
    "    width=1024\n",
    ").mark_tick(\n",
    "    size=10,\n",
    ").encode(\n",
    "    x=altair.X(\"departure_time:T\", title=\"Departure Time\"),\n",
    "    y=altair.Y(\"route:N\", title=\"Route\"),\n",
    "    color=altair.Color(\n",
    "        'schedule_relationship:N',\n",
    "        title=\"Status\",\n",
    "        scale=altair.Scale(domain=[\"run\", \"canceled\"], range=[\"darkgreen\", \"red\"])  \n",
    "    ),\n",
    ").configure_view(strokeWidth=0)"
   ]
  },
  {
   "cell_type": "code",
   "execution_count": null,
   "id": "29c21106-636a-43f7-8be3-3453f34a1d6b",
   "metadata": {},
   "outputs": [],
   "source": [
    "geoms = geopandas.GeoDataFrame(\n",
    "    (\n",
    "        trips.groupby(\"route\")\n",
    "        .agg({\"shape_id\": lambda g: g.value_counts().index[0]})\n",
    "        .reset_index()\n",
    "        .merge(feed.shapes, how=\"left\", on=\"shape_id\")\n",
    "    ),\n",
    "    crs=\"EPSG:4326\",\n",
    "    geometry=\"geometry\",\n",
    ")\n",
    "trips_agg = (\n",
    "    trips\n",
    "    .assign(count=1)   # unused column for count\n",
    "    .groupby([\"route\", \"schedule_relationship\"], dropna=False)\n",
    "    .agg({\n",
    "        \"duration\": sum,\n",
    "        \"count\": \"count\",\n",
    "    })\n",
    "    .unstack(level=1)\n",
    ")\n",
    "# https://stackoverflow.com/questions/45878333/merge-multiindex-columns-together-into-1-level\n",
    "trips_agg.columns = ['_'.join(col) for col in trips_agg.columns.values]\n",
    "trips_agg = trips_agg.assign(\n",
    "    duration_canceled=trips_agg.duration_canceled.fillna(pandas.Timedelta(0)),\n",
    "    count_canceled=trips_agg.count_canceled.fillna(0).astype(int),\n",
    "    count_scheduled=trips_agg.count_scheduled.astype(int),\n",
    ")\n",
    "trips_agg = trips_agg.assign(\n",
    "    percent_duration_canceled=(\n",
    "        100*trips_agg.duration_canceled/\n",
    "        (trips_agg.duration_canceled + trips_agg.duration_scheduled)\n",
    "    ),\n",
    "    percent_trips_canceled=(\n",
    "        100*trips_agg.count_canceled/\n",
    "        (trips_agg.count_canceled + trips_agg.count_scheduled)\n",
    "    ),\n",
    ")\n",
    "\n",
    "gdf = geopandas.GeoDataFrame(\n",
    "    trips_agg.merge(geoms, on=\"route\"),\n",
    "    crs=\"EPSG:4326\",\n",
    "    geometry=\"geometry\"\n",
    ")"
   ]
  },
  {
   "cell_type": "code",
   "execution_count": null,
   "id": "eb8f5faf-0890-40c0-8dc9-d5c03cd27185",
   "metadata": {},
   "outputs": [],
   "source": [
    "fig, ax = plt.subplots(1,1, figsize=(16,16))\n",
    "ax.axis(\"off\")\n",
    "ax.set_title(f\"Metro Bus Cancellations for {date.strftime('%A, %B %-m')}\")\n",
    "divider = make_axes_locatable(ax)\n",
    "cax = divider.append_axes(\"right\", size=\"2%\", pad=0.0)\n",
    "gdf.to_crs(epsg=3857).plot(\n",
    "    ax=ax,\n",
    "    column=gdf.percent_duration_canceled,\n",
    "    cmap=\"RdYlGn_r\",\n",
    "    lw=2,\n",
    "    legend=True,\n",
    "    cax=cax,\n",
    "    legend_kwds={\"label\": \"Percent of service hours canceled\"}\n",
    ")\n",
    "contextily.add_basemap(ax, source=contextily.providers.CartoDB.DarkMatterNoLabels)"
   ]
  },
  {
   "cell_type": "code",
   "execution_count": null,
   "id": "fe63213c-f7b5-4482-aff9-8094114db50e",
   "metadata": {},
   "outputs": [],
   "source": [
    "(\n",
    "    trips_agg\n",
    "    .sort_values(\"percent_duration_canceled\", ascending=False)\n",
    "    .reset_index()\n",
    "    .rename(columns={\n",
    "        \"route\": \"Route\",\n",
    "        \"duration_canceled\": \"Service Hours Canceled\",\n",
    "        \"duration_scheduled\": \"Service Hours Run\",\n",
    "        \"count_canceled\": \"Trips Canceled\",\n",
    "        \"count_scheduled\": \"Trips Run\",\n",
    "        \"percent_duration_canceled\": \"Percent of Service Hours Canceled\",\n",
    "        \"percent_trips_canceled\": \"Percent of Trips Canceled\",\n",
    "    })\n",
    "    .style\n",
    "    .hide_index()\n",
    "    .format(precision=0)\n",
    ")"
   ]
  },
  {
   "cell_type": "code",
   "execution_count": null,
   "id": "4d3303a3-c268-4875-a8bc-6a1f39e2d884",
   "metadata": {},
   "outputs": [],
   "source": [
    "gdf.duration_canceled.sum()/(gdf.duration_canceled.sum() + gdf.duration_scheduled.sum())"
   ]
  },
  {
   "cell_type": "code",
   "execution_count": null,
   "id": "6903af7b-7d7c-4caf-a2e6-ab25f41cb3ce",
   "metadata": {},
   "outputs": [],
   "source": [
    "gdf.count_canceled.sum()/(gdf.count_canceled.sum() + gdf.count_scheduled.sum())"
   ]
  }
 ],
 "metadata": {
  "kernelspec": {
   "display_name": "Python 3 (ipykernel)",
   "language": "python",
   "name": "python3"
  },
  "language_info": {
   "codemirror_mode": {
    "name": "ipython",
    "version": 3
   },
   "file_extension": ".py",
   "mimetype": "text/x-python",
   "name": "python",
   "nbconvert_exporter": "python",
   "pygments_lexer": "ipython3",
   "version": "3.8.5"
  }
 },
 "nbformat": 4,
 "nbformat_minor": 5
}
