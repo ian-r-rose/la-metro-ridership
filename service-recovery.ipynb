{
 "cells": [
  {
   "cell_type": "markdown",
   "metadata": {},
   "source": [
    "# Service Recovery and Ridership Recovery Analysis \n",
    "\n",
    "based on a baseline date and current GTFS, did coverage return equitably or not. "
   ]
  },
  {
   "cell_type": "code",
   "execution_count": 99,
   "metadata": {},
   "outputs": [],
   "source": [
    "import partridge as ptg\n",
    "import pandas as pd\n",
    "import altair as alt"
   ]
  },
  {
   "cell_type": "code",
   "execution_count": 4,
   "metadata": {},
   "outputs": [],
   "source": [
    "latest_gtfs = '2021-04-11-latest'\n",
    "baseline_gtfs = '2019-Dec-28-00:27:34-bcfeaef'"
   ]
  },
  {
   "cell_type": "code",
   "execution_count": 10,
   "metadata": {},
   "outputs": [],
   "source": [
    "bus_ridership = pd.read_parquet(\"metro-bus-covid-recovery.parquet\")"
   ]
  },
  {
   "cell_type": "code",
   "execution_count": 15,
   "metadata": {},
   "outputs": [],
   "source": [
    "date, service_ids = ptg.read_busiest_date(baseline_gtfs)"
   ]
  },
  {
   "cell_type": "code",
   "execution_count": 24,
   "metadata": {},
   "outputs": [],
   "source": [
    "def load_gtfs_into_df(data_dir):\n",
    "    \"\"\"\n",
    "    Loads a GTFS file into a merged dataframe \n",
    "    from the stops , stop times, routes, and \n",
    "    trips table\n",
    "    \"\"\"\n",
    "    data_dir = f\"./{data_dir}/\"\n",
    "    stops = pd.read_csv(f'{data_dir}stops.txt')\n",
    "    stop_times = pd.read_csv(f'{data_dir}stop_times.txt')\n",
    "    routes = pd.read_csv(f'{data_dir}routes.txt')\n",
    "    trips = pd.read_csv(f'{data_dir}trips.txt')\n",
    "    merged = pd.merge(routes,\n",
    "            pd.merge(trips,\n",
    "                pd.merge(stop_times, \n",
    "                         stops, \n",
    "                         on='stop_id',\n",
    "                         how = 'left',\n",
    "                         validate='m:1'\n",
    "                    ),\n",
    "                )\n",
    "            )\n",
    "    return merged"
   ]
  },
  {
   "cell_type": "code",
   "execution_count": 25,
   "metadata": {},
   "outputs": [],
   "source": [
    "def calculate_number_of_trips(df):\n",
    "    \"\"\"\n",
    "    For a merged DF, calaculate the number of \n",
    "    \n",
    "    weekday trips, sat trips, and sunday trips \n",
    "    \"\"\"\n",
    "    weekday = df[df.service_id.str.endswith('Weekday')]\n",
    "    saturday = df[df.service_id.str.endswith('Saturday')]\n",
    "    sunday = df[df.service_id.str.endswith('Sunday')]\n",
    "    return {'weekday': weekday.trip_id.nunique(),\n",
    "             'saturday': saturday.trip_id.nunique(),\n",
    "             'sunday': sunday.trip_id.nunique()}"
   ]
  },
  {
   "cell_type": "markdown",
   "metadata": {},
   "source": [
    "How many trips per day is Metro running?"
   ]
  },
  {
   "cell_type": "code",
   "execution_count": 26,
   "metadata": {},
   "outputs": [],
   "source": [
    "current_df = load_gtfs_into_df(latest_gtfs)"
   ]
  },
  {
   "cell_type": "code",
   "execution_count": 29,
   "metadata": {},
   "outputs": [
    {
     "data": {
      "text/plain": [
       "{'weekday': 11030, 'saturday': 8703, 'sunday': 8368}"
      ]
     },
     "execution_count": 29,
     "metadata": {},
     "output_type": "execute_result"
    }
   ],
   "source": [
    "calculate_number_of_trips(current_df)"
   ]
  },
  {
   "cell_type": "code",
   "execution_count": 30,
   "metadata": {},
   "outputs": [],
   "source": [
    "baseline_df = load_gtfs_into_df(baseline_gtfs)"
   ]
  },
  {
   "cell_type": "code",
   "execution_count": 31,
   "metadata": {},
   "outputs": [
    {
     "data": {
      "text/plain": [
       "{'weekday': 13841, 'saturday': 8771, 'sunday': 8099}"
      ]
     },
     "execution_count": 31,
     "metadata": {},
     "output_type": "execute_result"
    }
   ],
   "source": [
    "calculate_number_of_trips(baseline_df)"
   ]
  },
  {
   "cell_type": "markdown",
   "metadata": {},
   "source": [
    "As we can see, Metro is running approximately 2000 fewer trips per day on weekdays, ~60 on Saturdays and ~300 less  on Sundays. "
   ]
  },
  {
   "cell_type": "markdown",
   "metadata": {},
   "source": [
    "Let's now try breaking it down by line "
   ]
  },
  {
   "cell_type": "code",
   "execution_count": 86,
   "metadata": {},
   "outputs": [],
   "source": [
    "def trips_by_route(df):\n",
    "    df = df.assign(route_name_corrected = \n",
    "                   df.route_id.apply(lambda x: x.split(\"-\")[0]), \n",
    "                   day_of_week = df.service_id.apply(lambda x: x.split('_')[1])\n",
    "                  )\n",
    "    trips_by = pd.DataFrame(df.groupby(['route_name_corrected', 'day_of_week'])['trip_id'].nunique()).reset_index().rename({'trip_id': 'num_trips'}, axis =1)\n",
    "    return trips_by"
   ]
  },
  {
   "cell_type": "code",
   "execution_count": 126,
   "metadata": {},
   "outputs": [],
   "source": [
    "df1 = trips_by_route(current_df)\n",
    "df2 = trips_by_route(baseline_df)"
   ]
  },
  {
   "cell_type": "code",
   "execution_count": 128,
   "metadata": {},
   "outputs": [],
   "source": [
    "merged = pd.merge(\n",
    "    df1,\n",
    "    df2,\n",
    "    how=\"inner\",\n",
    "    on=['day_of_week','route_name_corrected'],\n",
    "    suffixes=['_current','_baseline']\n",
    ")\n",
    "\n"
   ]
  },
  {
   "cell_type": "markdown",
   "metadata": {},
   "source": [
    "let's look at one particular route. as we can see, the 10 lost 25 trips per day (or approx ~1 run per hour, although probably more given the distribution, between pre COVID service and after "
   ]
  },
  {
   "cell_type": "code",
   "execution_count": 130,
   "metadata": {},
   "outputs": [
    {
     "data": {
      "text/html": [
       "<div>\n",
       "<style scoped>\n",
       "    .dataframe tbody tr th:only-of-type {\n",
       "        vertical-align: middle;\n",
       "    }\n",
       "\n",
       "    .dataframe tbody tr th {\n",
       "        vertical-align: top;\n",
       "    }\n",
       "\n",
       "    .dataframe thead th {\n",
       "        text-align: right;\n",
       "    }\n",
       "</style>\n",
       "<table border=\"1\" class=\"dataframe\">\n",
       "  <thead>\n",
       "    <tr style=\"text-align: right;\">\n",
       "      <th></th>\n",
       "      <th>route_name_corrected</th>\n",
       "      <th>day_of_week</th>\n",
       "      <th>num_trips_current</th>\n",
       "      <th>num_trips_baseline</th>\n",
       "    </tr>\n",
       "  </thead>\n",
       "  <tbody>\n",
       "    <tr>\n",
       "      <th>0</th>\n",
       "      <td>10</td>\n",
       "      <td>Saturday</td>\n",
       "      <td>94</td>\n",
       "      <td>106</td>\n",
       "    </tr>\n",
       "    <tr>\n",
       "      <th>1</th>\n",
       "      <td>10</td>\n",
       "      <td>Sunday</td>\n",
       "      <td>94</td>\n",
       "      <td>94</td>\n",
       "    </tr>\n",
       "    <tr>\n",
       "      <th>2</th>\n",
       "      <td>10</td>\n",
       "      <td>Weekday</td>\n",
       "      <td>128</td>\n",
       "      <td>150</td>\n",
       "    </tr>\n",
       "  </tbody>\n",
       "</table>\n",
       "</div>"
      ],
      "text/plain": [
       "  route_name_corrected day_of_week  num_trips_current  num_trips_baseline\n",
       "0                   10    Saturday                 94                 106\n",
       "1                   10      Sunday                 94                  94\n",
       "2                   10     Weekday                128                 150"
      ]
     },
     "execution_count": 130,
     "metadata": {},
     "output_type": "execute_result"
    }
   ],
   "source": [
    "merged[merged[\"route_name_corrected\"] == '10']"
   ]
  },
  {
   "cell_type": "code",
   "execution_count": 136,
   "metadata": {},
   "outputs": [],
   "source": [
    "merged['percentage_loss'] = (merged.num_trips_baseline - merged.num_trips_current) / merged.num_trips_baseline * 100"
   ]
  },
  {
   "cell_type": "code",
   "execution_count": 139,
   "metadata": {},
   "outputs": [
    {
     "data": {
      "text/html": [
       "<div>\n",
       "<style scoped>\n",
       "    .dataframe tbody tr th:only-of-type {\n",
       "        vertical-align: middle;\n",
       "    }\n",
       "\n",
       "    .dataframe tbody tr th {\n",
       "        vertical-align: top;\n",
       "    }\n",
       "\n",
       "    .dataframe thead th {\n",
       "        text-align: right;\n",
       "    }\n",
       "</style>\n",
       "<table border=\"1\" class=\"dataframe\">\n",
       "  <thead>\n",
       "    <tr style=\"text-align: right;\">\n",
       "      <th></th>\n",
       "      <th>percentage_loss</th>\n",
       "      <th>route_name_corrected</th>\n",
       "      <th>day_of_week</th>\n",
       "    </tr>\n",
       "  </thead>\n",
       "  <tbody>\n",
       "    <tr>\n",
       "      <th>41</th>\n",
       "      <td>-203.846154</td>\n",
       "      <td>152</td>\n",
       "      <td>Saturday</td>\n",
       "    </tr>\n",
       "    <tr>\n",
       "      <th>61</th>\n",
       "      <td>-200.000000</td>\n",
       "      <td>165</td>\n",
       "      <td>Saturday</td>\n",
       "    </tr>\n",
       "    <tr>\n",
       "      <th>58</th>\n",
       "      <td>-139.130435</td>\n",
       "      <td>164</td>\n",
       "      <td>Saturday</td>\n",
       "    </tr>\n",
       "    <tr>\n",
       "      <th>55</th>\n",
       "      <td>-128.125000</td>\n",
       "      <td>163</td>\n",
       "      <td>Saturday</td>\n",
       "    </tr>\n",
       "    <tr>\n",
       "      <th>153</th>\n",
       "      <td>-65.346535</td>\n",
       "      <td>251</td>\n",
       "      <td>Weekday</td>\n",
       "    </tr>\n",
       "    <tr>\n",
       "      <th>...</th>\n",
       "      <td>...</td>\n",
       "      <td>...</td>\n",
       "      <td>...</td>\n",
       "    </tr>\n",
       "    <tr>\n",
       "      <th>238</th>\n",
       "      <td>47.252747</td>\n",
       "      <td>605</td>\n",
       "      <td>Weekday</td>\n",
       "    </tr>\n",
       "    <tr>\n",
       "      <th>266</th>\n",
       "      <td>48.333333</td>\n",
       "      <td>71</td>\n",
       "      <td>Weekday</td>\n",
       "    </tr>\n",
       "    <tr>\n",
       "      <th>229</th>\n",
       "      <td>50.000000</td>\n",
       "      <td>601</td>\n",
       "      <td>Weekday</td>\n",
       "    </tr>\n",
       "    <tr>\n",
       "      <th>313</th>\n",
       "      <td>52.631579</td>\n",
       "      <td>96</td>\n",
       "      <td>Weekday</td>\n",
       "    </tr>\n",
       "    <tr>\n",
       "      <th>208</th>\n",
       "      <td>58.415842</td>\n",
       "      <td>501</td>\n",
       "      <td>Weekday</td>\n",
       "    </tr>\n",
       "  </tbody>\n",
       "</table>\n",
       "<p>314 rows × 3 columns</p>\n",
       "</div>"
      ],
      "text/plain": [
       "     percentage_loss route_name_corrected day_of_week\n",
       "41       -203.846154                  152    Saturday\n",
       "61       -200.000000                  165    Saturday\n",
       "58       -139.130435                  164    Saturday\n",
       "55       -128.125000                  163    Saturday\n",
       "153       -65.346535                  251     Weekday\n",
       "..               ...                  ...         ...\n",
       "238        47.252747                  605     Weekday\n",
       "266        48.333333                   71     Weekday\n",
       "229        50.000000                  601     Weekday\n",
       "313        52.631579                   96     Weekday\n",
       "208        58.415842                  501     Weekday\n",
       "\n",
       "[314 rows x 3 columns]"
      ]
     },
     "execution_count": 139,
     "metadata": {},
     "output_type": "execute_result"
    }
   ],
   "source": [
    "merged[['percentage_loss', 'route_name_corrected', 'day_of_week']].sort_values('percentage_loss')"
   ]
  },
  {
   "cell_type": "markdown",
   "metadata": {},
   "source": [
    "for now, let's focus on weekday trip restoration. "
   ]
  },
  {
   "cell_type": "code",
   "execution_count": 140,
   "metadata": {},
   "outputs": [],
   "source": [
    "df = merged[merged.day_of_week == 'Weekday']"
   ]
  },
  {
   "cell_type": "code",
   "execution_count": 143,
   "metadata": {},
   "outputs": [
    {
     "data": {
      "text/html": [
       "<div>\n",
       "<style scoped>\n",
       "    .dataframe tbody tr th:only-of-type {\n",
       "        vertical-align: middle;\n",
       "    }\n",
       "\n",
       "    .dataframe tbody tr th {\n",
       "        vertical-align: top;\n",
       "    }\n",
       "\n",
       "    .dataframe thead th {\n",
       "        text-align: right;\n",
       "    }\n",
       "</style>\n",
       "<table border=\"1\" class=\"dataframe\">\n",
       "  <thead>\n",
       "    <tr style=\"text-align: right;\">\n",
       "      <th></th>\n",
       "      <th>route_name_corrected</th>\n",
       "      <th>day_of_week</th>\n",
       "      <th>num_trips_current</th>\n",
       "      <th>num_trips_baseline</th>\n",
       "      <th>percent_trip_loss</th>\n",
       "      <th>percentage_loss</th>\n",
       "    </tr>\n",
       "  </thead>\n",
       "  <tbody>\n",
       "    <tr>\n",
       "      <th>208</th>\n",
       "      <td>501</td>\n",
       "      <td>Weekday</td>\n",
       "      <td>42</td>\n",
       "      <td>101</td>\n",
       "      <td>58.415842</td>\n",
       "      <td>58.415842</td>\n",
       "    </tr>\n",
       "    <tr>\n",
       "      <th>313</th>\n",
       "      <td>96</td>\n",
       "      <td>Weekday</td>\n",
       "      <td>27</td>\n",
       "      <td>57</td>\n",
       "      <td>52.631579</td>\n",
       "      <td>52.631579</td>\n",
       "    </tr>\n",
       "    <tr>\n",
       "      <th>229</th>\n",
       "      <td>601</td>\n",
       "      <td>Weekday</td>\n",
       "      <td>114</td>\n",
       "      <td>228</td>\n",
       "      <td>50.000000</td>\n",
       "      <td>50.000000</td>\n",
       "    </tr>\n",
       "    <tr>\n",
       "      <th>266</th>\n",
       "      <td>71</td>\n",
       "      <td>Weekday</td>\n",
       "      <td>31</td>\n",
       "      <td>60</td>\n",
       "      <td>48.333333</td>\n",
       "      <td>48.333333</td>\n",
       "    </tr>\n",
       "    <tr>\n",
       "      <th>238</th>\n",
       "      <td>605</td>\n",
       "      <td>Weekday</td>\n",
       "      <td>48</td>\n",
       "      <td>91</td>\n",
       "      <td>47.252747</td>\n",
       "      <td>47.252747</td>\n",
       "    </tr>\n",
       "    <tr>\n",
       "      <th>...</th>\n",
       "      <td>...</td>\n",
       "      <td>...</td>\n",
       "      <td>...</td>\n",
       "      <td>...</td>\n",
       "      <td>...</td>\n",
       "      <td>...</td>\n",
       "    </tr>\n",
       "    <tr>\n",
       "      <th>227</th>\n",
       "      <td>60</td>\n",
       "      <td>Weekday</td>\n",
       "      <td>240</td>\n",
       "      <td>187</td>\n",
       "      <td>-28.342246</td>\n",
       "      <td>-28.342246</td>\n",
       "    </tr>\n",
       "    <tr>\n",
       "      <th>110</th>\n",
       "      <td>210</td>\n",
       "      <td>Weekday</td>\n",
       "      <td>168</td>\n",
       "      <td>112</td>\n",
       "      <td>-50.000000</td>\n",
       "      <td>-50.000000</td>\n",
       "    </tr>\n",
       "    <tr>\n",
       "      <th>178</th>\n",
       "      <td>28</td>\n",
       "      <td>Weekday</td>\n",
       "      <td>166</td>\n",
       "      <td>107</td>\n",
       "      <td>-55.140187</td>\n",
       "      <td>-55.140187</td>\n",
       "    </tr>\n",
       "    <tr>\n",
       "      <th>8</th>\n",
       "      <td>105</td>\n",
       "      <td>Weekday</td>\n",
       "      <td>193</td>\n",
       "      <td>122</td>\n",
       "      <td>-58.196721</td>\n",
       "      <td>-58.196721</td>\n",
       "    </tr>\n",
       "    <tr>\n",
       "      <th>153</th>\n",
       "      <td>251</td>\n",
       "      <td>Weekday</td>\n",
       "      <td>167</td>\n",
       "      <td>101</td>\n",
       "      <td>-65.346535</td>\n",
       "      <td>-65.346535</td>\n",
       "    </tr>\n",
       "  </tbody>\n",
       "</table>\n",
       "<p>121 rows × 6 columns</p>\n",
       "</div>"
      ],
      "text/plain": [
       "    route_name_corrected day_of_week  num_trips_current  num_trips_baseline  \\\n",
       "208                  501     Weekday                 42                 101   \n",
       "313                   96     Weekday                 27                  57   \n",
       "229                  601     Weekday                114                 228   \n",
       "266                   71     Weekday                 31                  60   \n",
       "238                  605     Weekday                 48                  91   \n",
       "..                   ...         ...                ...                 ...   \n",
       "227                   60     Weekday                240                 187   \n",
       "110                  210     Weekday                168                 112   \n",
       "178                   28     Weekday                166                 107   \n",
       "8                    105     Weekday                193                 122   \n",
       "153                  251     Weekday                167                 101   \n",
       "\n",
       "     percent_trip_loss  percentage_loss  \n",
       "208          58.415842        58.415842  \n",
       "313          52.631579        52.631579  \n",
       "229          50.000000        50.000000  \n",
       "266          48.333333        48.333333  \n",
       "238          47.252747        47.252747  \n",
       "..                 ...              ...  \n",
       "227         -28.342246       -28.342246  \n",
       "110         -50.000000       -50.000000  \n",
       "178         -55.140187       -55.140187  \n",
       "8           -58.196721       -58.196721  \n",
       "153         -65.346535       -65.346535  \n",
       "\n",
       "[121 rows x 6 columns]"
      ]
     },
     "execution_count": 143,
     "metadata": {},
     "output_type": "execute_result"
    }
   ],
   "source": [
    "df.sort_values('percentage_loss', ascending=False)"
   ]
  },
  {
   "cell_type": "code",
   "execution_count": 144,
   "metadata": {},
   "outputs": [],
   "source": [
    "df.to_csv('percentage_loss.csv')"
   ]
  },
  {
   "cell_type": "code",
   "execution_count": null,
   "metadata": {},
   "outputs": [],
   "source": []
  }
 ],
 "metadata": {
  "kernelspec": {
   "display_name": "Python 3",
   "language": "python",
   "name": "python3"
  },
  "language_info": {
   "codemirror_mode": {
    "name": "ipython",
    "version": 3
   },
   "file_extension": ".py",
   "mimetype": "text/x-python",
   "name": "python",
   "nbconvert_exporter": "python",
   "pygments_lexer": "ipython3",
   "version": "3.8.5"
  }
 },
 "nbformat": 4,
 "nbformat_minor": 4
}
